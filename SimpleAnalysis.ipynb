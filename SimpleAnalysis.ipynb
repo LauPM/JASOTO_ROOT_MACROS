{
 "cells": [
  {
   "cell_type": "code",
   "execution_count": 15,
   "metadata": {},
   "outputs": [],
   "source": [
    "# from ROOT import RDataFrame\n",
    "# import numpy as np\n",
    "# import matplotlib.pyplot as plt\n",
    "import pandas as pd\n",
    "import json\n",
    "import os\n",
    "\n",
    "# Load PDS map\n",
    "f       = open('rodrigo_la_lia.json')\n",
    "run_map = json.load(f)\n",
    "pd_run_map=pd.DataFrame(run_map)  #mapa de runes como dataframe de pandas\n"
   ]
  },
  {
   "cell_type": "code",
   "execution_count": 6,
   "metadata": {},
   "outputs": [],
   "source": [
    "seleccionados = pd_run_map[(pd_run_map[\"tipo\"]==\"coincidencia\") &\n",
    "           (pd_run_map[\"threshold\"]==22)\n",
    "          ]"
   ]
  },
  {
   "cell_type": "code",
   "execution_count": 23,
   "metadata": {},
   "outputs": [
    {
     "name": "stdout",
     "output_type": "stream",
     "text": [
      "procesando run: 37\n",
      "procesando run: 38\n",
      "procesando run: 39\n"
     ]
    }
   ],
   "source": [
    "# seleccionados\n",
    "for i in seleccionados[\"Run\"]:\n",
    "    print (\"procesando run:\",i)\n",
    "    os.system(\"\"\"      root -l 'doExtract.C(\"andres\",5)'      \"\"\")\n",
    "    "
   ]
  },
  {
   "cell_type": "code",
   "execution_count": null,
   "metadata": {},
   "outputs": [],
   "source": []
  }
 ],
 "metadata": {
  "kernelspec": {
   "display_name": "Python 3",
   "language": "python",
   "name": "python3"
  },
  "language_info": {
   "codemirror_mode": {
    "name": "ipython",
    "version": 3
   },
   "file_extension": ".py",
   "mimetype": "text/x-python",
   "name": "python",
   "nbconvert_exporter": "python",
   "pygments_lexer": "ipython3",
   "version": "3.6.8"
  }
 },
 "nbformat": 4,
 "nbformat_minor": 4
}
